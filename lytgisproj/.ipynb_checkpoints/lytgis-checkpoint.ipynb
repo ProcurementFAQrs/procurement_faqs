{
 "metadata": {
  "name": "",
  "signature": "sha256:be1d881b4379ad990cb3b77f4ba6b0d4e1fde8f0bf4f6ce213d3a0bc7ca474dd"
 },
 "nbformat": 3,
 "nbformat_minor": 0,
 "worksheets": [
  {
   "cells": [
    {
     "cell_type": "code",
     "collapsed": false,
     "input": [
      "ls"
     ],
     "language": "python",
     "metadata": {},
     "outputs": [
      {
       "output_type": "stream",
       "stream": "stdout",
       "text": [
        "db.sqlite3  \u001b[0m\u001b[01;34mlytgis\u001b[0m/  \u001b[01;34mlytgisproj\u001b[0m/  \u001b[01;32mmanage.py\u001b[0m*  Untitled0.ipynb  Untitled1.ipynb\r\n"
       ]
      }
     ],
     "prompt_number": 1
    },
    {
     "cell_type": "code",
     "collapsed": false,
     "input": [
      "from lytgis.models import Polygon"
     ],
     "language": "python",
     "metadata": {},
     "outputs": [],
     "prompt_number": 5
    },
    {
     "cell_type": "code",
     "collapsed": false,
     "input": [
      "data = Polygon.objects.all()[:10]"
     ],
     "language": "python",
     "metadata": {},
     "outputs": [],
     "prompt_number": 2
    },
    {
     "cell_type": "code",
     "collapsed": false,
     "input": [
      "for row in data:\n",
      "    print row.way.json"
     ],
     "language": "python",
     "metadata": {},
     "outputs": [
      {
       "output_type": "stream",
       "stream": "stdout",
       "text": [
        "{ \"type\": \"Polygon\", \"coordinates\": [ [ [ 13649431.48, 1230036.93 ], [ 13649432.64, 1230042.07 ], [ 13649438.11, 1230040.83 ], [ 13649436.95, 1230035.69 ], [ 13649431.48, 1230036.93 ] ] ] }\n",
        "{ \"type\": \"Polygon\", \"coordinates\": [ [ [ 13649434.78, 1234341.47 ], [ 13649437.61, 1234345.52 ], [ 13649442.9, 1234341.84 ], [ 13649440.07, 1234337.78 ], [ 13649434.78, 1234341.47 ] ] ] }\n",
        "{ \"type\": \"Polygon\", \"coordinates\": [ [ [ 13649435.72, 1214019.47 ], [ 13649437.14, 1214022.98 ], [ 13649444.81, 1214020.77 ], [ 13649443.64, 1214016.61 ], [ 13649435.72, 1214019.47 ] ] ] }\n",
        "{ \"type\": \"Polygon\", \"coordinates\": [ [ [ 13649435.23, 1225092.18 ], [ 13649441.74, 1225101.62 ], [ 13649454.61, 1225092.01 ], [ 13649447.57, 1225084.62 ], [ 13649435.23, 1225092.18 ] ] ] }\n",
        "{ \"type\": \"Polygon\", \"coordinates\": [ [ [ 13649435.06, 1234323.39 ], [ 13649438.52, 1234328.36 ], [ 13649448.67, 1234321.28 ], [ 13649445.22, 1234316.32 ], [ 13649435.06, 1234323.39 ] ] ] }\n",
        "{ \"type\": \"Polygon\", \"coordinates\": [ [ [ 13649439.38, 1207325.3 ], [ 13649454.69, 1207329.96 ], [ 13649457.62, 1207323.11 ], [ 13649446.08, 1207319.4 ], [ 13649447.08, 1207316.46 ], [ 13649442.85, 1207315.1 ], [ 13649439.38, 1207325.3 ] ] ] }\n",
        "{ \"type\": \"Polygon\", \"coordinates\": [ [ [ 13649439.61, 1212395.77 ], [ 13649448.31, 1212405.49 ], [ 13649458.72, 1212396.17 ], [ 13649450.03, 1212386.46 ], [ 13649439.61, 1212395.77 ] ] ] }\n",
        "{ \"type\": \"Polygon\", \"coordinates\": [ [ [ 13649441.39, 1211091.46 ], [ 13649445.22, 1211099.64 ], [ 13649449.44, 1211097.67 ], [ 13649445.6, 1211089.49 ], [ 13649441.39, 1211091.46 ] ] ] }\n",
        "{ \"type\": \"Polygon\", \"coordinates\": [ [ [ 13649441.19, 1221766.33 ], [ 13649444.82, 1221771.1 ], [ 13649451.46, 1221766.05 ], [ 13649447.83, 1221761.27 ], [ 13649441.19, 1221766.33 ] ] ] }\n",
        "{ \"type\": \"Polygon\", \"coordinates\": [ [ [ 13649441.83, 1230072.02 ], [ 13649443.42, 1230076.01 ], [ 13649446.46, 1230074.8 ], [ 13649444.87, 1230070.81 ], [ 13649441.83, 1230072.02 ] ] ] }\n"
       ]
      }
     ],
     "prompt_number": 3
    },
    {
     "cell_type": "code",
     "collapsed": false,
     "input": [
      "from lytgis.models import Spots"
     ],
     "language": "python",
     "metadata": {},
     "outputs": [],
     "prompt_number": 42
    },
    {
     "cell_type": "code",
     "collapsed": false,
     "input": [
      "test = Spots(code=1111, poly='POINT( 14 121 )')"
     ],
     "language": "python",
     "metadata": {},
     "outputs": [],
     "prompt_number": 43
    },
    {
     "cell_type": "code",
     "collapsed": false,
     "input": [
      "test.save()"
     ],
     "language": "python",
     "metadata": {},
     "outputs": [
      {
       "ename": "InterfaceError",
       "evalue": "connection already closed",
       "output_type": "pyerr",
       "traceback": [
        "\u001b[1;31m---------------------------------------------------------------------------\u001b[0m\n\u001b[1;31mInterfaceError\u001b[0m                            Traceback (most recent call last)",
        "\u001b[1;32m<ipython-input-44-a669a42c82ea>\u001b[0m in \u001b[0;36m<module>\u001b[1;34m()\u001b[0m\n\u001b[1;32m----> 1\u001b[1;33m \u001b[0mtest\u001b[0m\u001b[1;33m.\u001b[0m\u001b[0msave\u001b[0m\u001b[1;33m(\u001b[0m\u001b[1;33m)\u001b[0m\u001b[1;33m\u001b[0m\u001b[0m\n\u001b[0m",
        "\u001b[1;32m/home/berserk/.envs/lytgisproj/local/lib/python2.7/site-packages/django/db/models/base.pyc\u001b[0m in \u001b[0;36msave\u001b[1;34m(self, force_insert, force_update, using, update_fields)\u001b[0m\n\u001b[0;32m    543\u001b[0m \u001b[1;33m\u001b[0m\u001b[0m\n\u001b[0;32m    544\u001b[0m         self.save_base(using=using, force_insert=force_insert,\n\u001b[1;32m--> 545\u001b[1;33m                        force_update=force_update, update_fields=update_fields)\n\u001b[0m\u001b[0;32m    546\u001b[0m     \u001b[0msave\u001b[0m\u001b[1;33m.\u001b[0m\u001b[0malters_data\u001b[0m \u001b[1;33m=\u001b[0m \u001b[0mTrue\u001b[0m\u001b[1;33m\u001b[0m\u001b[0m\n\u001b[0;32m    547\u001b[0m \u001b[1;33m\u001b[0m\u001b[0m\n",
        "\u001b[1;32m/home/berserk/.envs/lytgisproj/local/lib/python2.7/site-packages/django/db/models/base.pyc\u001b[0m in \u001b[0;36msave_base\u001b[1;34m(self, raw, force_insert, force_update, using, update_fields)\u001b[0m\n\u001b[0;32m    568\u001b[0m             signals.pre_save.send(sender=origin, instance=self, raw=raw, using=using,\n\u001b[0;32m    569\u001b[0m                                   update_fields=update_fields)\n\u001b[1;32m--> 570\u001b[1;33m         \u001b[1;32mwith\u001b[0m \u001b[0mtransaction\u001b[0m\u001b[1;33m.\u001b[0m\u001b[0mcommit_on_success_unless_managed\u001b[0m\u001b[1;33m(\u001b[0m\u001b[0musing\u001b[0m\u001b[1;33m=\u001b[0m\u001b[0musing\u001b[0m\u001b[1;33m,\u001b[0m \u001b[0msavepoint\u001b[0m\u001b[1;33m=\u001b[0m\u001b[0mFalse\u001b[0m\u001b[1;33m)\u001b[0m\u001b[1;33m:\u001b[0m\u001b[1;33m\u001b[0m\u001b[0m\n\u001b[0m\u001b[0;32m    571\u001b[0m             \u001b[1;32mif\u001b[0m \u001b[1;32mnot\u001b[0m \u001b[0mraw\u001b[0m\u001b[1;33m:\u001b[0m\u001b[1;33m\u001b[0m\u001b[0m\n\u001b[0;32m    572\u001b[0m                 \u001b[0mself\u001b[0m\u001b[1;33m.\u001b[0m\u001b[0m_save_parents\u001b[0m\u001b[1;33m(\u001b[0m\u001b[0mcls\u001b[0m\u001b[1;33m,\u001b[0m \u001b[0musing\u001b[0m\u001b[1;33m,\u001b[0m \u001b[0mupdate_fields\u001b[0m\u001b[1;33m)\u001b[0m\u001b[1;33m\u001b[0m\u001b[0m\n",
        "\u001b[1;32m/home/berserk/.envs/lytgisproj/local/lib/python2.7/site-packages/django/db/transaction.pyc\u001b[0m in \u001b[0;36m__enter__\u001b[1;34m(self)\u001b[0m\n\u001b[0;32m    278\u001b[0m                 \u001b[0mconnection\u001b[0m\u001b[1;33m.\u001b[0m\u001b[0mautocommit\u001b[0m \u001b[1;33m=\u001b[0m \u001b[0mFalse\u001b[0m\u001b[1;33m\u001b[0m\u001b[0m\n\u001b[0;32m    279\u001b[0m             \u001b[1;32melse\u001b[0m\u001b[1;33m:\u001b[0m\u001b[1;33m\u001b[0m\u001b[0m\n\u001b[1;32m--> 280\u001b[1;33m                 \u001b[0mconnection\u001b[0m\u001b[1;33m.\u001b[0m\u001b[0mset_autocommit\u001b[0m\u001b[1;33m(\u001b[0m\u001b[0mFalse\u001b[0m\u001b[1;33m)\u001b[0m\u001b[1;33m\u001b[0m\u001b[0m\n\u001b[0m\u001b[0;32m    281\u001b[0m             \u001b[0mconnection\u001b[0m\u001b[1;33m.\u001b[0m\u001b[0min_atomic_block\u001b[0m \u001b[1;33m=\u001b[0m \u001b[0mTrue\u001b[0m\u001b[1;33m\u001b[0m\u001b[0m\n\u001b[0;32m    282\u001b[0m \u001b[1;33m\u001b[0m\u001b[0m\n",
        "\u001b[1;32m/home/berserk/.envs/lytgisproj/local/lib/python2.7/site-packages/django/db/backends/__init__.pyc\u001b[0m in \u001b[0;36mset_autocommit\u001b[1;34m(self, autocommit)\u001b[0m\n\u001b[0;32m    338\u001b[0m         \u001b[0mself\u001b[0m\u001b[1;33m.\u001b[0m\u001b[0mvalidate_no_atomic_block\u001b[0m\u001b[1;33m(\u001b[0m\u001b[1;33m)\u001b[0m\u001b[1;33m\u001b[0m\u001b[0m\n\u001b[0;32m    339\u001b[0m         \u001b[0mself\u001b[0m\u001b[1;33m.\u001b[0m\u001b[0mensure_connection\u001b[0m\u001b[1;33m(\u001b[0m\u001b[1;33m)\u001b[0m\u001b[1;33m\u001b[0m\u001b[0m\n\u001b[1;32m--> 340\u001b[1;33m         \u001b[0mself\u001b[0m\u001b[1;33m.\u001b[0m\u001b[0m_set_autocommit\u001b[0m\u001b[1;33m(\u001b[0m\u001b[0mautocommit\u001b[0m\u001b[1;33m)\u001b[0m\u001b[1;33m\u001b[0m\u001b[0m\n\u001b[0m\u001b[0;32m    341\u001b[0m         \u001b[0mself\u001b[0m\u001b[1;33m.\u001b[0m\u001b[0mautocommit\u001b[0m \u001b[1;33m=\u001b[0m \u001b[0mautocommit\u001b[0m\u001b[1;33m\u001b[0m\u001b[0m\n\u001b[0;32m    342\u001b[0m \u001b[1;33m\u001b[0m\u001b[0m\n",
        "\u001b[1;32m/home/berserk/.envs/lytgisproj/local/lib/python2.7/site-packages/django/db/backends/postgresql_psycopg2/base.pyc\u001b[0m in \u001b[0;36m_set_autocommit\u001b[1;34m(self, autocommit)\u001b[0m\n\u001b[0;32m    155\u001b[0m                 \u001b[1;32melse\u001b[0m\u001b[1;33m:\u001b[0m\u001b[1;33m\u001b[0m\u001b[0m\n\u001b[0;32m    156\u001b[0m                     \u001b[0mlevel\u001b[0m \u001b[1;33m=\u001b[0m \u001b[0mself\u001b[0m\u001b[1;33m.\u001b[0m\u001b[0misolation_level\u001b[0m\u001b[1;33m\u001b[0m\u001b[0m\n\u001b[1;32m--> 157\u001b[1;33m                 \u001b[0mself\u001b[0m\u001b[1;33m.\u001b[0m\u001b[0mconnection\u001b[0m\u001b[1;33m.\u001b[0m\u001b[0mset_isolation_level\u001b[0m\u001b[1;33m(\u001b[0m\u001b[0mlevel\u001b[0m\u001b[1;33m)\u001b[0m\u001b[1;33m\u001b[0m\u001b[0m\n\u001b[0m\u001b[0;32m    158\u001b[0m \u001b[1;33m\u001b[0m\u001b[0m\n\u001b[0;32m    159\u001b[0m     \u001b[1;32mdef\u001b[0m \u001b[0mcheck_constraints\u001b[0m\u001b[1;33m(\u001b[0m\u001b[0mself\u001b[0m\u001b[1;33m,\u001b[0m \u001b[0mtable_names\u001b[0m\u001b[1;33m=\u001b[0m\u001b[0mNone\u001b[0m\u001b[1;33m)\u001b[0m\u001b[1;33m:\u001b[0m\u001b[1;33m\u001b[0m\u001b[0m\n",
        "\u001b[1;32m/home/berserk/.envs/lytgisproj/local/lib/python2.7/site-packages/django/db/utils.pyc\u001b[0m in \u001b[0;36m__exit__\u001b[1;34m(self, exc_type, exc_value, traceback)\u001b[0m\n\u001b[0;32m     97\u001b[0m                 \u001b[1;32mif\u001b[0m \u001b[0mdj_exc_type\u001b[0m \u001b[1;32mnot\u001b[0m \u001b[1;32min\u001b[0m \u001b[1;33m(\u001b[0m\u001b[0mDataError\u001b[0m\u001b[1;33m,\u001b[0m \u001b[0mIntegrityError\u001b[0m\u001b[1;33m)\u001b[0m\u001b[1;33m:\u001b[0m\u001b[1;33m\u001b[0m\u001b[0m\n\u001b[0;32m     98\u001b[0m                     \u001b[0mself\u001b[0m\u001b[1;33m.\u001b[0m\u001b[0mwrapper\u001b[0m\u001b[1;33m.\u001b[0m\u001b[0merrors_occurred\u001b[0m \u001b[1;33m=\u001b[0m \u001b[0mTrue\u001b[0m\u001b[1;33m\u001b[0m\u001b[0m\n\u001b[1;32m---> 99\u001b[1;33m                 \u001b[0msix\u001b[0m\u001b[1;33m.\u001b[0m\u001b[0mreraise\u001b[0m\u001b[1;33m(\u001b[0m\u001b[0mdj_exc_type\u001b[0m\u001b[1;33m,\u001b[0m \u001b[0mdj_exc_value\u001b[0m\u001b[1;33m,\u001b[0m \u001b[0mtraceback\u001b[0m\u001b[1;33m)\u001b[0m\u001b[1;33m\u001b[0m\u001b[0m\n\u001b[0m\u001b[0;32m    100\u001b[0m \u001b[1;33m\u001b[0m\u001b[0m\n\u001b[0;32m    101\u001b[0m     \u001b[1;32mdef\u001b[0m \u001b[0m__call__\u001b[0m\u001b[1;33m(\u001b[0m\u001b[0mself\u001b[0m\u001b[1;33m,\u001b[0m \u001b[0mfunc\u001b[0m\u001b[1;33m)\u001b[0m\u001b[1;33m:\u001b[0m\u001b[1;33m\u001b[0m\u001b[0m\n",
        "\u001b[1;32m/home/berserk/.envs/lytgisproj/local/lib/python2.7/site-packages/django/db/backends/postgresql_psycopg2/base.pyc\u001b[0m in \u001b[0;36m_set_autocommit\u001b[1;34m(self, autocommit)\u001b[0m\n\u001b[0;32m    149\u001b[0m         \u001b[1;32mwith\u001b[0m \u001b[0mself\u001b[0m\u001b[1;33m.\u001b[0m\u001b[0mwrap_database_errors\u001b[0m\u001b[1;33m:\u001b[0m\u001b[1;33m\u001b[0m\u001b[0m\n\u001b[0;32m    150\u001b[0m             \u001b[1;32mif\u001b[0m \u001b[0mself\u001b[0m\u001b[1;33m.\u001b[0m\u001b[0mpsycopg2_version\u001b[0m \u001b[1;33m>=\u001b[0m \u001b[1;33m(\u001b[0m\u001b[1;36m2\u001b[0m\u001b[1;33m,\u001b[0m \u001b[1;36m4\u001b[0m\u001b[1;33m,\u001b[0m \u001b[1;36m2\u001b[0m\u001b[1;33m)\u001b[0m\u001b[1;33m:\u001b[0m\u001b[1;33m\u001b[0m\u001b[0m\n\u001b[1;32m--> 151\u001b[1;33m                 \u001b[0mself\u001b[0m\u001b[1;33m.\u001b[0m\u001b[0mconnection\u001b[0m\u001b[1;33m.\u001b[0m\u001b[0mautocommit\u001b[0m \u001b[1;33m=\u001b[0m \u001b[0mautocommit\u001b[0m\u001b[1;33m\u001b[0m\u001b[0m\n\u001b[0m\u001b[0;32m    152\u001b[0m             \u001b[1;32melse\u001b[0m\u001b[1;33m:\u001b[0m\u001b[1;33m\u001b[0m\u001b[0m\n\u001b[0;32m    153\u001b[0m                 \u001b[1;32mif\u001b[0m \u001b[0mautocommit\u001b[0m\u001b[1;33m:\u001b[0m\u001b[1;33m\u001b[0m\u001b[0m\n",
        "\u001b[1;31mInterfaceError\u001b[0m: connection already closed"
       ]
      }
     ],
     "prompt_number": 44
    },
    {
     "cell_type": "code",
     "collapsed": false,
     "input": [
      "spots = Spots.objects.all()"
     ],
     "language": "python",
     "metadata": {},
     "outputs": [],
     "prompt_number": 45
    },
    {
     "cell_type": "code",
     "collapsed": false,
     "input": [
      "for i in spots:\n",
      "    print i.poly.json"
     ],
     "language": "python",
     "metadata": {},
     "outputs": [
      {
       "ename": "InterfaceError",
       "evalue": "connection already closed",
       "output_type": "pyerr",
       "traceback": [
        "\u001b[1;31m---------------------------------------------------------------------------\u001b[0m\n\u001b[1;31mInterfaceError\u001b[0m                            Traceback (most recent call last)",
        "\u001b[1;32m<ipython-input-46-ae722c119924>\u001b[0m in \u001b[0;36m<module>\u001b[1;34m()\u001b[0m\n\u001b[1;32m----> 1\u001b[1;33m \u001b[1;32mfor\u001b[0m \u001b[0mi\u001b[0m \u001b[1;32min\u001b[0m \u001b[0mspots\u001b[0m\u001b[1;33m:\u001b[0m\u001b[1;33m\u001b[0m\u001b[0m\n\u001b[0m\u001b[0;32m      2\u001b[0m     \u001b[1;32mprint\u001b[0m \u001b[0mi\u001b[0m\u001b[1;33m.\u001b[0m\u001b[0mpoly\u001b[0m\u001b[1;33m.\u001b[0m\u001b[0mjson\u001b[0m\u001b[1;33m\u001b[0m\u001b[0m\n",
        "\u001b[1;32m/home/berserk/.envs/lytgisproj/local/lib/python2.7/site-packages/django/db/models/query.pyc\u001b[0m in \u001b[0;36m__iter__\u001b[1;34m(self)\u001b[0m\n\u001b[0;32m     94\u001b[0m                \u001b[1;33m-\u001b[0m \u001b[0mResponsible\u001b[0m \u001b[1;32mfor\u001b[0m \u001b[0mturning\u001b[0m \u001b[0mthe\u001b[0m \u001b[0mrows\u001b[0m \u001b[0minto\u001b[0m \u001b[0mmodel\u001b[0m \u001b[0mobjects\u001b[0m\u001b[1;33m.\u001b[0m\u001b[1;33m\u001b[0m\u001b[0m\n\u001b[0;32m     95\u001b[0m         \"\"\"\n\u001b[1;32m---> 96\u001b[1;33m         \u001b[0mself\u001b[0m\u001b[1;33m.\u001b[0m\u001b[0m_fetch_all\u001b[0m\u001b[1;33m(\u001b[0m\u001b[1;33m)\u001b[0m\u001b[1;33m\u001b[0m\u001b[0m\n\u001b[0m\u001b[0;32m     97\u001b[0m         \u001b[1;32mreturn\u001b[0m \u001b[0miter\u001b[0m\u001b[1;33m(\u001b[0m\u001b[0mself\u001b[0m\u001b[1;33m.\u001b[0m\u001b[0m_result_cache\u001b[0m\u001b[1;33m)\u001b[0m\u001b[1;33m\u001b[0m\u001b[0m\n\u001b[0;32m     98\u001b[0m \u001b[1;33m\u001b[0m\u001b[0m\n",
        "\u001b[1;32m/home/berserk/.envs/lytgisproj/local/lib/python2.7/site-packages/django/db/models/query.pyc\u001b[0m in \u001b[0;36m_fetch_all\u001b[1;34m(self)\u001b[0m\n\u001b[0;32m    855\u001b[0m     \u001b[1;32mdef\u001b[0m \u001b[0m_fetch_all\u001b[0m\u001b[1;33m(\u001b[0m\u001b[0mself\u001b[0m\u001b[1;33m)\u001b[0m\u001b[1;33m:\u001b[0m\u001b[1;33m\u001b[0m\u001b[0m\n\u001b[0;32m    856\u001b[0m         \u001b[1;32mif\u001b[0m \u001b[0mself\u001b[0m\u001b[1;33m.\u001b[0m\u001b[0m_result_cache\u001b[0m \u001b[1;32mis\u001b[0m \u001b[0mNone\u001b[0m\u001b[1;33m:\u001b[0m\u001b[1;33m\u001b[0m\u001b[0m\n\u001b[1;32m--> 857\u001b[1;33m             \u001b[0mself\u001b[0m\u001b[1;33m.\u001b[0m\u001b[0m_result_cache\u001b[0m \u001b[1;33m=\u001b[0m \u001b[0mlist\u001b[0m\u001b[1;33m(\u001b[0m\u001b[0mself\u001b[0m\u001b[1;33m.\u001b[0m\u001b[0miterator\u001b[0m\u001b[1;33m(\u001b[0m\u001b[1;33m)\u001b[0m\u001b[1;33m)\u001b[0m\u001b[1;33m\u001b[0m\u001b[0m\n\u001b[0m\u001b[0;32m    858\u001b[0m         \u001b[1;32mif\u001b[0m \u001b[0mself\u001b[0m\u001b[1;33m.\u001b[0m\u001b[0m_prefetch_related_lookups\u001b[0m \u001b[1;32mand\u001b[0m \u001b[1;32mnot\u001b[0m \u001b[0mself\u001b[0m\u001b[1;33m.\u001b[0m\u001b[0m_prefetch_done\u001b[0m\u001b[1;33m:\u001b[0m\u001b[1;33m\u001b[0m\u001b[0m\n\u001b[0;32m    859\u001b[0m             \u001b[0mself\u001b[0m\u001b[1;33m.\u001b[0m\u001b[0m_prefetch_related_objects\u001b[0m\u001b[1;33m(\u001b[0m\u001b[1;33m)\u001b[0m\u001b[1;33m\u001b[0m\u001b[0m\n",
        "\u001b[1;32m/home/berserk/.envs/lytgisproj/local/lib/python2.7/site-packages/django/db/models/query.pyc\u001b[0m in \u001b[0;36miterator\u001b[1;34m(self)\u001b[0m\n\u001b[0;32m    218\u001b[0m             klass_info = get_klass_info(model, max_depth=max_depth,\n\u001b[0;32m    219\u001b[0m                                         requested=requested, only_load=only_load)\n\u001b[1;32m--> 220\u001b[1;33m         \u001b[1;32mfor\u001b[0m \u001b[0mrow\u001b[0m \u001b[1;32min\u001b[0m \u001b[0mcompiler\u001b[0m\u001b[1;33m.\u001b[0m\u001b[0mresults_iter\u001b[0m\u001b[1;33m(\u001b[0m\u001b[1;33m)\u001b[0m\u001b[1;33m:\u001b[0m\u001b[1;33m\u001b[0m\u001b[0m\n\u001b[0m\u001b[0;32m    221\u001b[0m             \u001b[1;32mif\u001b[0m \u001b[0mfill_cache\u001b[0m\u001b[1;33m:\u001b[0m\u001b[1;33m\u001b[0m\u001b[0m\n\u001b[0;32m    222\u001b[0m                 obj, _ = get_cached_row(row, index_start, db, klass_info,\n",
        "\u001b[1;32m/home/berserk/.envs/lytgisproj/local/lib/python2.7/site-packages/django/db/models/sql/compiler.pyc\u001b[0m in \u001b[0;36mresults_iter\u001b[1;34m(self)\u001b[0m\n\u001b[0;32m    711\u001b[0m         \u001b[0mfields\u001b[0m \u001b[1;33m=\u001b[0m \u001b[0mNone\u001b[0m\u001b[1;33m\u001b[0m\u001b[0m\n\u001b[0;32m    712\u001b[0m         \u001b[0mhas_aggregate_select\u001b[0m \u001b[1;33m=\u001b[0m \u001b[0mbool\u001b[0m\u001b[1;33m(\u001b[0m\u001b[0mself\u001b[0m\u001b[1;33m.\u001b[0m\u001b[0mquery\u001b[0m\u001b[1;33m.\u001b[0m\u001b[0maggregate_select\u001b[0m\u001b[1;33m)\u001b[0m\u001b[1;33m\u001b[0m\u001b[0m\n\u001b[1;32m--> 713\u001b[1;33m         \u001b[1;32mfor\u001b[0m \u001b[0mrows\u001b[0m \u001b[1;32min\u001b[0m \u001b[0mself\u001b[0m\u001b[1;33m.\u001b[0m\u001b[0mexecute_sql\u001b[0m\u001b[1;33m(\u001b[0m\u001b[0mMULTI\u001b[0m\u001b[1;33m)\u001b[0m\u001b[1;33m:\u001b[0m\u001b[1;33m\u001b[0m\u001b[0m\n\u001b[0m\u001b[0;32m    714\u001b[0m             \u001b[1;32mfor\u001b[0m \u001b[0mrow\u001b[0m \u001b[1;32min\u001b[0m \u001b[0mrows\u001b[0m\u001b[1;33m:\u001b[0m\u001b[1;33m\u001b[0m\u001b[0m\n\u001b[0;32m    715\u001b[0m                 \u001b[1;32mif\u001b[0m \u001b[0mhas_aggregate_select\u001b[0m\u001b[1;33m:\u001b[0m\u001b[1;33m\u001b[0m\u001b[0m\n",
        "\u001b[1;32m/home/berserk/.envs/lytgisproj/local/lib/python2.7/site-packages/django/db/models/sql/compiler.pyc\u001b[0m in \u001b[0;36mexecute_sql\u001b[1;34m(self, result_type)\u001b[0m\n\u001b[0;32m    783\u001b[0m                 \u001b[1;32mreturn\u001b[0m\u001b[1;33m\u001b[0m\u001b[0m\n\u001b[0;32m    784\u001b[0m \u001b[1;33m\u001b[0m\u001b[0m\n\u001b[1;32m--> 785\u001b[1;33m         \u001b[0mcursor\u001b[0m \u001b[1;33m=\u001b[0m \u001b[0mself\u001b[0m\u001b[1;33m.\u001b[0m\u001b[0mconnection\u001b[0m\u001b[1;33m.\u001b[0m\u001b[0mcursor\u001b[0m\u001b[1;33m(\u001b[0m\u001b[1;33m)\u001b[0m\u001b[1;33m\u001b[0m\u001b[0m\n\u001b[0m\u001b[0;32m    786\u001b[0m         \u001b[0mcursor\u001b[0m\u001b[1;33m.\u001b[0m\u001b[0mexecute\u001b[0m\u001b[1;33m(\u001b[0m\u001b[0msql\u001b[0m\u001b[1;33m,\u001b[0m \u001b[0mparams\u001b[0m\u001b[1;33m)\u001b[0m\u001b[1;33m\u001b[0m\u001b[0m\n\u001b[0;32m    787\u001b[0m \u001b[1;33m\u001b[0m\u001b[0m\n",
        "\u001b[1;32m/home/berserk/.envs/lytgisproj/local/lib/python2.7/site-packages/django/db/backends/__init__.pyc\u001b[0m in \u001b[0;36mcursor\u001b[1;34m(self)\u001b[0m\n\u001b[0;32m    158\u001b[0m         if (self.use_debug_cursor or\n\u001b[0;32m    159\u001b[0m             (self.use_debug_cursor is None and settings.DEBUG)):\n\u001b[1;32m--> 160\u001b[1;33m             \u001b[0mcursor\u001b[0m \u001b[1;33m=\u001b[0m \u001b[0mself\u001b[0m\u001b[1;33m.\u001b[0m\u001b[0mmake_debug_cursor\u001b[0m\u001b[1;33m(\u001b[0m\u001b[0mself\u001b[0m\u001b[1;33m.\u001b[0m\u001b[0m_cursor\u001b[0m\u001b[1;33m(\u001b[0m\u001b[1;33m)\u001b[0m\u001b[1;33m)\u001b[0m\u001b[1;33m\u001b[0m\u001b[0m\n\u001b[0m\u001b[0;32m    161\u001b[0m         \u001b[1;32melse\u001b[0m\u001b[1;33m:\u001b[0m\u001b[1;33m\u001b[0m\u001b[0m\n\u001b[0;32m    162\u001b[0m             \u001b[0mcursor\u001b[0m \u001b[1;33m=\u001b[0m \u001b[0mutil\u001b[0m\u001b[1;33m.\u001b[0m\u001b[0mCursorWrapper\u001b[0m\u001b[1;33m(\u001b[0m\u001b[0mself\u001b[0m\u001b[1;33m.\u001b[0m\u001b[0m_cursor\u001b[0m\u001b[1;33m(\u001b[0m\u001b[1;33m)\u001b[0m\u001b[1;33m,\u001b[0m \u001b[0mself\u001b[0m\u001b[1;33m)\u001b[0m\u001b[1;33m\u001b[0m\u001b[0m\n",
        "\u001b[1;32m/home/berserk/.envs/lytgisproj/local/lib/python2.7/site-packages/django/db/backends/__init__.pyc\u001b[0m in \u001b[0;36m_cursor\u001b[1;34m(self)\u001b[0m\n\u001b[0;32m    132\u001b[0m         \u001b[0mself\u001b[0m\u001b[1;33m.\u001b[0m\u001b[0mensure_connection\u001b[0m\u001b[1;33m(\u001b[0m\u001b[1;33m)\u001b[0m\u001b[1;33m\u001b[0m\u001b[0m\n\u001b[0;32m    133\u001b[0m         \u001b[1;32mwith\u001b[0m \u001b[0mself\u001b[0m\u001b[1;33m.\u001b[0m\u001b[0mwrap_database_errors\u001b[0m\u001b[1;33m:\u001b[0m\u001b[1;33m\u001b[0m\u001b[0m\n\u001b[1;32m--> 134\u001b[1;33m             \u001b[1;32mreturn\u001b[0m \u001b[0mself\u001b[0m\u001b[1;33m.\u001b[0m\u001b[0mcreate_cursor\u001b[0m\u001b[1;33m(\u001b[0m\u001b[1;33m)\u001b[0m\u001b[1;33m\u001b[0m\u001b[0m\n\u001b[0m\u001b[0;32m    135\u001b[0m \u001b[1;33m\u001b[0m\u001b[0m\n\u001b[0;32m    136\u001b[0m     \u001b[1;32mdef\u001b[0m \u001b[0m_commit\u001b[0m\u001b[1;33m(\u001b[0m\u001b[0mself\u001b[0m\u001b[1;33m)\u001b[0m\u001b[1;33m:\u001b[0m\u001b[1;33m\u001b[0m\u001b[0m\n",
        "\u001b[1;32m/home/berserk/.envs/lytgisproj/local/lib/python2.7/site-packages/django/db/utils.pyc\u001b[0m in \u001b[0;36m__exit__\u001b[1;34m(self, exc_type, exc_value, traceback)\u001b[0m\n\u001b[0;32m     97\u001b[0m                 \u001b[1;32mif\u001b[0m \u001b[0mdj_exc_type\u001b[0m \u001b[1;32mnot\u001b[0m \u001b[1;32min\u001b[0m \u001b[1;33m(\u001b[0m\u001b[0mDataError\u001b[0m\u001b[1;33m,\u001b[0m \u001b[0mIntegrityError\u001b[0m\u001b[1;33m)\u001b[0m\u001b[1;33m:\u001b[0m\u001b[1;33m\u001b[0m\u001b[0m\n\u001b[0;32m     98\u001b[0m                     \u001b[0mself\u001b[0m\u001b[1;33m.\u001b[0m\u001b[0mwrapper\u001b[0m\u001b[1;33m.\u001b[0m\u001b[0merrors_occurred\u001b[0m \u001b[1;33m=\u001b[0m \u001b[0mTrue\u001b[0m\u001b[1;33m\u001b[0m\u001b[0m\n\u001b[1;32m---> 99\u001b[1;33m                 \u001b[0msix\u001b[0m\u001b[1;33m.\u001b[0m\u001b[0mreraise\u001b[0m\u001b[1;33m(\u001b[0m\u001b[0mdj_exc_type\u001b[0m\u001b[1;33m,\u001b[0m \u001b[0mdj_exc_value\u001b[0m\u001b[1;33m,\u001b[0m \u001b[0mtraceback\u001b[0m\u001b[1;33m)\u001b[0m\u001b[1;33m\u001b[0m\u001b[0m\n\u001b[0m\u001b[0;32m    100\u001b[0m \u001b[1;33m\u001b[0m\u001b[0m\n\u001b[0;32m    101\u001b[0m     \u001b[1;32mdef\u001b[0m \u001b[0m__call__\u001b[0m\u001b[1;33m(\u001b[0m\u001b[0mself\u001b[0m\u001b[1;33m,\u001b[0m \u001b[0mfunc\u001b[0m\u001b[1;33m)\u001b[0m\u001b[1;33m:\u001b[0m\u001b[1;33m\u001b[0m\u001b[0m\n",
        "\u001b[1;32m/home/berserk/.envs/lytgisproj/local/lib/python2.7/site-packages/django/db/backends/__init__.pyc\u001b[0m in \u001b[0;36m_cursor\u001b[1;34m(self)\u001b[0m\n\u001b[0;32m    132\u001b[0m         \u001b[0mself\u001b[0m\u001b[1;33m.\u001b[0m\u001b[0mensure_connection\u001b[0m\u001b[1;33m(\u001b[0m\u001b[1;33m)\u001b[0m\u001b[1;33m\u001b[0m\u001b[0m\n\u001b[0;32m    133\u001b[0m         \u001b[1;32mwith\u001b[0m \u001b[0mself\u001b[0m\u001b[1;33m.\u001b[0m\u001b[0mwrap_database_errors\u001b[0m\u001b[1;33m:\u001b[0m\u001b[1;33m\u001b[0m\u001b[0m\n\u001b[1;32m--> 134\u001b[1;33m             \u001b[1;32mreturn\u001b[0m \u001b[0mself\u001b[0m\u001b[1;33m.\u001b[0m\u001b[0mcreate_cursor\u001b[0m\u001b[1;33m(\u001b[0m\u001b[1;33m)\u001b[0m\u001b[1;33m\u001b[0m\u001b[0m\n\u001b[0m\u001b[0;32m    135\u001b[0m \u001b[1;33m\u001b[0m\u001b[0m\n\u001b[0;32m    136\u001b[0m     \u001b[1;32mdef\u001b[0m \u001b[0m_commit\u001b[0m\u001b[1;33m(\u001b[0m\u001b[0mself\u001b[0m\u001b[1;33m)\u001b[0m\u001b[1;33m:\u001b[0m\u001b[1;33m\u001b[0m\u001b[0m\n",
        "\u001b[1;32m/home/berserk/.envs/lytgisproj/local/lib/python2.7/site-packages/django/db/backends/postgresql_psycopg2/base.pyc\u001b[0m in \u001b[0;36mcreate_cursor\u001b[1;34m(self)\u001b[0m\n\u001b[0;32m    135\u001b[0m \u001b[1;33m\u001b[0m\u001b[0m\n\u001b[0;32m    136\u001b[0m     \u001b[1;32mdef\u001b[0m \u001b[0mcreate_cursor\u001b[0m\u001b[1;33m(\u001b[0m\u001b[0mself\u001b[0m\u001b[1;33m)\u001b[0m\u001b[1;33m:\u001b[0m\u001b[1;33m\u001b[0m\u001b[0m\n\u001b[1;32m--> 137\u001b[1;33m         \u001b[0mcursor\u001b[0m \u001b[1;33m=\u001b[0m \u001b[0mself\u001b[0m\u001b[1;33m.\u001b[0m\u001b[0mconnection\u001b[0m\u001b[1;33m.\u001b[0m\u001b[0mcursor\u001b[0m\u001b[1;33m(\u001b[0m\u001b[1;33m)\u001b[0m\u001b[1;33m\u001b[0m\u001b[0m\n\u001b[0m\u001b[0;32m    138\u001b[0m         \u001b[0mcursor\u001b[0m\u001b[1;33m.\u001b[0m\u001b[0mtzinfo_factory\u001b[0m \u001b[1;33m=\u001b[0m \u001b[0mutc_tzinfo_factory\u001b[0m \u001b[1;32mif\u001b[0m \u001b[0msettings\u001b[0m\u001b[1;33m.\u001b[0m\u001b[0mUSE_TZ\u001b[0m \u001b[1;32melse\u001b[0m \u001b[0mNone\u001b[0m\u001b[1;33m\u001b[0m\u001b[0m\n\u001b[0;32m    139\u001b[0m         \u001b[1;32mreturn\u001b[0m \u001b[0mcursor\u001b[0m\u001b[1;33m\u001b[0m\u001b[0m\n",
        "\u001b[1;31mInterfaceError\u001b[0m: connection already closed"
       ]
      }
     ],
     "prompt_number": 46
    },
    {
     "cell_type": "code",
     "collapsed": false,
     "input": [
      "qr = Polygon.objects.filter(way__contains='POINT( 12496395.8 991100.78  )')[:50]"
     ],
     "language": "python",
     "metadata": {},
     "outputs": [],
     "prompt_number": 9
    },
    {
     "cell_type": "code",
     "collapsed": false,
     "input": [
      "qr"
     ],
     "language": "python",
     "metadata": {},
     "outputs": [
      {
       "metadata": {},
       "output_type": "pyout",
       "prompt_number": 10,
       "text": [
        "[<Polygon: Polygon object>, <Polygon: Polygon object>, <Polygon: Polygon object>, <Polygon: Polygon object>, <Polygon: Polygon object>, <Polygon: Polygon object>, <Polygon: Polygon object>, <Polygon: Polygon object>]"
       ]
      }
     ],
     "prompt_number": 10
    },
    {
     "cell_type": "code",
     "collapsed": false,
     "input": [
      "for r in qr:\n",
      "    print r.way.json"
     ],
     "language": "python",
     "metadata": {},
     "outputs": [
      {
       "output_type": "stream",
       "stream": "stdout",
       "text": [
        "{ \"type\": \"Polygon\", \"coordinates\": [ [ [ 12486342.15, 1006026.79 ], [ 12746091.89, 1345715.33 ], [ 13135710.53, 1345715.33 ], [ 13135934.86, 1677114.63 ], [ 13135975.54, 1740127.96 ], [ 13136487.38, 2455144.49 ], [ 14145781.83, 2454811.44 ], [ 14145643.35, 538276.13 ], [ 13358344.74, 529380.56 ], [ 13358349.52, 488429.43 ], [ 13247028.58, 495102.3 ], [ 13247028.73, 523798.29 ], [ 13311957.2, 587112.03 ], [ 13228430.65, 669148.06 ], [ 13172822.71, 669148.06 ], [ 13132033.99, 700850.33 ], [ 13132005.34, 766251.77 ], [ 13071691.56, 827475.42 ], [ 13024381.81, 856015.1 ], [ 12913070.39, 856005.54 ], [ 12486349.31, 856021.51 ], [ 12486342.15, 1006026.79 ] ], [ [ 12729618.52, 1161639.06 ], [ 12729683.0, 1161049.06 ], [ 12730430.66, 1160810.19 ], [ 12731175.07, 1160868.36 ], [ 12731472.11, 1160912.89 ], [ 12732231.71, 1161247.32 ], [ 12735606.51, 1161625.43 ], [ 12737233.27, 1161728.54 ], [ 12737611.23, 1162672.98 ], [ 12737006.52, 1163452.02 ], [ 12736148.06, 1163430.59 ], [ 12735064.97, 1162834.88 ], [ 12732469.55, 1162292.2 ], [ 12731818.47, 1162594.53 ], [ 12731481.67, 1162458.37 ], [ 12730846.28, 1162243.38 ], [ 12730378.1, 1162088.12 ], [ 12729874.11, 1161908.98 ], [ 12729618.52, 1161639.06 ] ] ] }\n",
        "{ \"type\": \"Polygon\", \"coordinates\": [ [ [ 12496257.26, 991012.39 ], [ 12496364.75, 991186.77 ], [ 12496498.51, 991260.82 ], [ 12496574.96, 991181.99 ], [ 12496448.35, 990986.12 ], [ 12496326.54, 990955.07 ], [ 12496257.26, 991012.39 ] ] ] }\n",
        "{ \"type\": \"Polygon\", \"coordinates\": [ [ [ 12496054.14, 990817.31 ], [ 12496118.6, 991002.39 ], [ 12496340.71, 991401.24 ], [ 12496447.49, 991539.99 ], [ 12496602.75, 991642.7 ], [ 12496920.66, 991780.97 ], [ 12497006.43, 991700.02 ], [ 12496972.99, 991544.77 ], [ 12496915.66, 991379.94 ], [ 12496748.46, 991169.74 ], [ 12496550.2, 990933.27 ], [ 12496292.37, 990524.39 ], [ 12496099.06, 990545.11 ], [ 12496054.14, 990817.31 ] ] ] }\n",
        "{ \"type\": \"Polygon\", \"coordinates\": [ [ [ 12496054.14, 990817.31 ], [ 12496118.6, 991002.39 ], [ 12496340.71, 991401.24 ], [ 12496447.49, 991539.99 ], [ 12496602.75, 991642.7 ], [ 12496920.66, 991780.97 ], [ 12497006.43, 991700.02 ], [ 12496972.99, 991544.77 ], [ 12496915.66, 991379.94 ], [ 12496748.46, 991169.74 ], [ 12496550.2, 990933.27 ], [ 12496292.37, 990524.39 ], [ 12496099.06, 990545.11 ], [ 12496054.14, 990817.31 ] ] ] }\n",
        "{ \"type\": \"Polygon\", \"coordinates\": [ [ [ 12496054.14, 990817.31 ], [ 12496118.6, 991002.39 ], [ 12496340.71, 991401.24 ], [ 12496447.49, 991539.99 ], [ 12496602.75, 991642.7 ], [ 12496920.66, 991780.97 ], [ 12497006.43, 991700.02 ], [ 12496972.99, 991544.77 ], [ 12496915.66, 991379.94 ], [ 12496748.46, 991169.74 ], [ 12496550.2, 990933.27 ], [ 12496292.37, 990524.39 ], [ 12496099.06, 990545.11 ], [ 12496054.14, 990817.31 ] ] ] }\n",
        "{ \"type\": \"Polygon\", \"coordinates\": [ [ [ 12496054.14, 990817.31 ], [ 12496118.6, 991002.39 ], [ 12496340.71, 991401.24 ], [ 12496447.49, 991539.99 ], [ 12496602.75, 991642.7 ], [ 12496920.66, 991780.97 ], [ 12497006.43, 991700.02 ], [ 12496972.99, 991544.77 ], [ 12496915.66, 991379.94 ], [ 12496748.46, 991169.74 ], [ 12496550.2, 990933.27 ], [ 12496292.37, 990524.39 ], [ 12496099.06, 990545.11 ], [ 12496054.14, 990817.31 ] ] ] }\n",
        "{ \"type\": \"Polygon\", \"coordinates\": [ [ [ 12496054.14, 990817.31 ], [ 12496118.6, 991002.39 ], [ 12496340.71, 991401.24 ], [ 12496447.49, 991539.99 ], [ 12496602.75, 991642.7 ], [ 12496920.66, 991780.97 ], [ 12497006.43, 991700.02 ], [ 12496972.99, 991544.77 ], [ 12496915.66, 991379.94 ], [ 12496748.46, 991169.74 ], [ 12496550.2, 990933.27 ], [ 12496292.37, 990524.39 ], [ 12496099.06, 990545.11 ], [ 12496054.14, 990817.31 ] ] ] }\n",
        "{ \"type\": \"Polygon\", \"coordinates\": [ [ [ 12496054.14, 990817.31 ], [ 12496118.6, 991002.39 ], [ 12496340.71, 991401.24 ], [ 12496447.49, 991539.99 ], [ 12496602.75, 991642.7 ], [ 12496920.66, 991780.97 ], [ 12497006.43, 991700.02 ], [ 12496972.99, 991544.77 ], [ 12496915.66, 991379.94 ], [ 12496748.46, 991169.74 ], [ 12496550.2, 990933.27 ], [ 12496292.37, 990524.39 ], [ 12496099.06, 990545.11 ], [ 12496054.14, 990817.31 ] ] ] }\n"
       ]
      }
     ],
     "prompt_number": 8
    },
    {
     "cell_type": "code",
     "collapsed": false,
     "input": [
      "from django.db import connection"
     ],
     "language": "python",
     "metadata": {},
     "outputs": [],
     "prompt_number": 11
    },
    {
     "cell_type": "code",
     "collapsed": false,
     "input": [
      "print(connection.queries[-1]['sql'])"
     ],
     "language": "python",
     "metadata": {},
     "outputs": [
      {
       "output_type": "stream",
       "stream": "stdout",
       "text": [
        "SELECT \"planet_osm_polygon\".\"osm_id\", \"planet_osm_polygon\".\"name\", \"planet_osm_polygon\".\"admin_level\", \"planet_osm_polygon\".\"boundary\", \"planet_osm_polygon\".\"way\" FROM \"planet_osm_polygon\" WHERE ST_Contains(\"planet_osm_polygon\".\"way\", ST_GeomFromEWKB('\\x010100002031bf0d009a999979c1d56741f6285c8ff93e2e41'::bytea)) LIMIT 21\n"
       ]
      }
     ],
     "prompt_number": 12
    },
    {
     "cell_type": "code",
     "collapsed": false,
     "input": [
      "from lytgis.models import Point"
     ],
     "language": "python",
     "metadata": {},
     "outputs": [],
     "prompt_number": 1
    },
    {
     "cell_type": "code",
     "collapsed": false,
     "input": [
      "d = Point.objects.all()[:10].transform(4326)"
     ],
     "language": "python",
     "metadata": {},
     "outputs": [],
     "prompt_number": 6
    },
    {
     "cell_type": "code",
     "collapsed": false,
     "input": [
      "d"
     ],
     "language": "python",
     "metadata": {},
     "outputs": [
      {
       "metadata": {},
       "output_type": "pyout",
       "prompt_number": 7,
       "text": [
        "[<Point: Point object>, <Point: Point object>, <Point: Point object>, <Point: Point object>, <Point: Point object>, <Point: Point object>, <Point: Point object>, <Point: Point object>, <Point: Point object>, <Point: Point object>]"
       ]
      }
     ],
     "prompt_number": 7
    },
    {
     "cell_type": "code",
     "collapsed": false,
     "input": [
      "for c in d:\n",
      "    print c.way.json"
     ],
     "language": "python",
     "metadata": {},
     "outputs": [
      {
       "output_type": "stream",
       "stream": "stdout",
       "text": [
        "{ \"type\": \"Point\", \"coordinates\": [ 112.228882031096205, 8.861923635794412 ] }\n",
        "{ \"type\": \"Point\", \"coordinates\": [ 112.25703343546995, 8.867594858621599 ] }\n",
        "{ \"type\": \"Point\", \"coordinates\": [ 112.258525716819918, 8.869742435849467 ] }\n",
        "{ \"type\": \"Point\", \"coordinates\": [ 112.352868404925658, 8.931474129155244 ] }\n",
        "{ \"type\": \"Point\", \"coordinates\": [ 112.366666617521261, 8.933333275534242 ] }\n",
        "{ \"type\": \"Point\", \"coordinates\": [ 112.599999970152538, 8.81666664060204 ] }\n",
        "{ \"type\": \"Point\", \"coordinates\": [ 112.839099967918685, 8.895629355769671 ] }\n",
        "{ \"type\": \"Point\", \"coordinates\": [ 112.899999905132631, 7.899999958526475 ] }\n",
        "{ \"type\": \"Point\", \"coordinates\": [ 112.899999905132631, 8.916666643929112 ] }\n",
        "{ \"type\": \"Point\", \"coordinates\": [ 112.899999905132631, 9.833333280742648 ] }\n"
       ]
      }
     ],
     "prompt_number": 9
    },
    {
     "cell_type": "code",
     "collapsed": false,
     "input": [],
     "language": "python",
     "metadata": {},
     "outputs": []
    }
   ],
   "metadata": {}
  }
 ]
}