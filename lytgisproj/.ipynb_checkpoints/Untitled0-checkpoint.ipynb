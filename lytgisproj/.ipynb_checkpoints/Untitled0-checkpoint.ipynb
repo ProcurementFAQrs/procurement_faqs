{
 "metadata": {
  "name": "",
  "signature": "sha256:9304952ef04b30624b149b840aec2400ff0a9e222fa0478e864fdbd870c4d2e8"
 },
 "nbformat": 3,
 "nbformat_minor": 0,
 "worksheets": []
}