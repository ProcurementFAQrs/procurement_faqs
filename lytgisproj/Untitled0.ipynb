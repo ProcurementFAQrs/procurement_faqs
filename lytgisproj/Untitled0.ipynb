{
 "metadata": {
  "name": "",
  "signature": "sha256:2acc9295e24bc222c260654722a4a39e2889c4d902d8d0650ee31c57a228ae12"
 },
 "nbformat": 3,
 "nbformat_minor": 0,
 "worksheets": [
  {
   "cells": [
    {
     "cell_type": "code",
     "collapsed": true,
     "input": [
      "ls"
     ],
     "language": "python",
     "metadata": {
      "slideshow": {
       "slide_type": "notes"
      }
     },
     "outputs": [
      {
       "output_type": "stream",
       "stream": "stdout",
       "text": [
        "db.sqlite3  \u001b[0m\u001b[01;34mlytgis\u001b[0m/  \u001b[01;34mlytgisproj\u001b[0m/  \u001b[01;32mmanage.py\u001b[0m*  Untitled0.ipynb\r\n"
       ]
      }
     ],
     "prompt_number": 14
    },
    {
     "cell_type": "code",
     "collapsed": false,
     "input": [
      "from lytgis.models import Point"
     ],
     "language": "python",
     "metadata": {},
     "outputs": [],
     "prompt_number": 15
    },
    {
     "cell_type": "code",
     "collapsed": false,
     "input": [
      "data = Point.objects.all()[:20]\n"
     ],
     "language": "python",
     "metadata": {},
     "outputs": [],
     "prompt_number": 20
    },
    {
     "cell_type": "code",
     "collapsed": false,
     "input": [
      "for row in data:\n",
      "    print row.way.json"
     ],
     "language": "python",
     "metadata": {},
     "outputs": [
      {
       "output_type": "stream",
       "stream": "stdout",
       "text": [
        "{ \"type\": \"Point\", \"coordinates\": [ 12493262.0, 990461.83 ] }\n",
        "{ \"type\": \"Point\", \"coordinates\": [ 12496395.8, 991100.78 ] }\n",
        "{ \"type\": \"Point\", \"coordinates\": [ 12496561.92, 991342.74 ] }\n",
        "{ \"type\": \"Point\", \"coordinates\": [ 12507064.1, 998298.44 ] }\n",
        "{ \"type\": \"Point\", \"coordinates\": [ 12508600.11, 998507.94 ] }\n",
        "{ \"type\": \"Point\", \"coordinates\": [ 12534574.66, 985363.29 ] }\n",
        "{ \"type\": \"Point\", \"coordinates\": [ 12561191.15, 994259.44 ] }\n",
        "{ \"type\": \"Point\", \"coordinates\": [ 12567970.5, 882223.77 ] }\n",
        "{ \"type\": \"Point\", \"coordinates\": [ 12567970.5, 996629.88 ] }\n",
        "{ \"type\": \"Point\", \"coordinates\": [ 12567970.5, 1100055.31 ] }\n",
        "{ \"type\": \"Point\", \"coordinates\": [ 12569825.87, 880350.67 ] }\n",
        "{ \"type\": \"Point\", \"coordinates\": [ 12572825.58, 1075156.2 ] }\n",
        "{ \"type\": \"Point\", \"coordinates\": [ 12573536.48, 938451.58 ] }\n",
        "{ \"type\": \"Point\", \"coordinates\": [ 12617892.12, 923714.16 ] }\n",
        "{ \"type\": \"Point\", \"coordinates\": [ 12647749.51, 1147160.13 ] }\n",
        "{ \"type\": \"Point\", \"coordinates\": [ 12653315.48, 1028568.76 ] }\n",
        "{ \"type\": \"Point\", \"coordinates\": [ 12653315.48, 1032327.9 ] }\n",
        "{ \"type\": \"Point\", \"coordinates\": [ 12657026.1, 1002690.96 ] }\n",
        "{ \"type\": \"Point\", \"coordinates\": [ 12674240.78, 1121443.83 ] }"
       ]
      },
      {
       "output_type": "stream",
       "stream": "stdout",
       "text": [
        "\n",
        "{ \"type\": \"Point\", \"coordinates\": [ 12679927.49, 892871.05 ] }\n"
       ]
      }
     ],
     "prompt_number": 21
    },
    {
     "cell_type": "code",
     "collapsed": false,
     "input": [
      "print \"test\""
     ],
     "language": "python",
     "metadata": {},
     "outputs": [
      {
       "output_type": "stream",
       "stream": "stdout",
       "text": [
        "test\n"
       ]
      }
     ],
     "prompt_number": 18
    },
    {
     "cell_type": "markdown",
     "metadata": {},
     "source": []
    },
    {
     "cell_type": "code",
     "collapsed": false,
     "input": [],
     "language": "python",
     "metadata": {},
     "outputs": []
    }
   ],
   "metadata": {}
  }
 ]
}